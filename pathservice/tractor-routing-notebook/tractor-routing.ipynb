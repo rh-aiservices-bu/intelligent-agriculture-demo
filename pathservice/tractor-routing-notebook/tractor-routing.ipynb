{
 "cells": [
  {
   "cell_type": "markdown",
   "id": "fb58a9af",
   "metadata": {
    "pycharm": {
     "name": "#%% md\n"
    },
    "tags": []
   },
   "source": [
    "# OptaPy - Tractor Routing\n",
    "\n",
    "## Tractor Routing Quickstart\n",
    "\n",
    "### Model the domain objects and constraints\n",
    "\n",
    "Using a fleet of tractor, treat each field and get back to the barn. Each tractor can treat multiple fields, but it has a limited capacity.\n",
    "\n",
    "#### Problem Facts\n",
    "\n",
    "Problem facts are facts about the problem. As such, they do not change during solving (and thus cannot have any planning variables). For Tractor Routing, the problem facts are the locations a tractor can visit, the barns, and the fields to visit:"
   ]
  },
  {
   "cell_type": "code",
   "execution_count": 1,
   "id": "5afc0705",
   "metadata": {
    "pycharm": {
     "name": "#%%\n"
    }
   },
   "outputs": [],
   "source": [
    "class Location:\n",
    "    def __init__(self, X, Y, distance_map=None):\n",
    "        self.X = X\n",
    "        self.Y = Y\n",
    "        self.distance_map = distance_map\n",
    "\n",
    "    def set_distance_map(self, distance_map):\n",
    "        self.distance_map = distance_map\n",
    "\n",
    "    def get_distance_to(self, location):\n",
    "        return self.distance_map[location]\n",
    "\n",
    "    def to_X_Y_tuple(self):\n",
    "        return (\n",
    "            self.X,\n",
    "            self.Y\n",
    "        )\n",
    "\n",
    "    def __str__(self):\n",
    "        return f'[{self.X}, {self.Y}]'\n"
   ]
  },
  {
   "cell_type": "markdown",
   "id": "c5d97f25",
   "metadata": {},
   "source": [
    "A location is composed of its coordinates. Its distance to other locations is stored in a distance map, which is populated by a distance calculator:"
   ]
  },
  {
   "cell_type": "code",
   "execution_count": 2,
   "id": "3a197036",
   "metadata": {
    "pycharm": {
     "name": "#%%\n"
    },
    "tags": []
   },
   "outputs": [],
   "source": [
    "import math\n",
    "\n",
    "class EuclideanDistanceCalculator:\n",
    "   \n",
    "    def __init__(self):\n",
    "        pass\n",
    "\n",
    "    def calculate_distance(self, start, end):\n",
    "        if start == end:\n",
    "            return 0\n",
    "        X_diff = end.X - start.X\n",
    "        Y_diff = end.Y - start.Y\n",
    "        return math.ceil(math.sqrt(X_diff**2 + Y_diff**2))\n",
    "\n",
    "    def init_distance_maps(self, location_list):\n",
    "        for location in location_list:\n",
    "            distance_map = dict()\n",
    "            for other_location in location_list:\n",
    "                distance_map[other_location] = self.calculate_distance(location, other_location)\n",
    "            location.set_distance_map(distance_map)"
   ]
  },
  {
   "cell_type": "markdown",
   "id": "fa63c8fc",
   "metadata": {
    "pycharm": {
     "name": "#%% md\n"
    }
   },
   "source": [
    "A tractor departs and comes back to a specific barn to reload:"
   ]
  },
  {
   "cell_type": "code",
   "execution_count": 3,
   "id": "6b2d45a1",
   "metadata": {
    "pycharm": {
     "name": "#%%\n"
    }
   },
   "outputs": [],
   "source": [
    "class Barn:\n",
    "    def __init__(self, name, location):\n",
    "        self.name = name\n",
    "        self.location = location\n",
    "\n",
    "    def __str__(self):\n",
    "        return f'BarnLocation {self.name}'"
   ]
  },
  {
   "cell_type": "markdown",
   "id": "6408fb81",
   "metadata": {
    "pycharm": {
     "name": "#%% md\n"
    }
   },
   "source": [
    "A tractor visits fields to treat crops, which take up some capacity of the tractor:"
   ]
  },
  {
   "cell_type": "code",
   "execution_count": 4,
   "id": "eee90c52",
   "metadata": {
    "pycharm": {
     "name": "#%%\n"
    }
   },
   "outputs": [],
   "source": [
    "from optapy import problem_fact\n",
    "\n",
    "@problem_fact\n",
    "class Field:\n",
    "    def __init__(self, name, location, demand):\n",
    "        self.name = name\n",
    "        self.location = location\n",
    "        self.demand = demand\n",
    "\n",
    "\n",
    "    def __str__(self):\n",
    "        return f'Field {self.name}'"
   ]
  },
  {
   "cell_type": "markdown",
   "id": "56eeae5d",
   "metadata": {
    "pycharm": {
     "name": "#%% md\n"
    },
    "tags": []
   },
   "source": [
    "---\n",
    "**NOTE**\n",
    "\n",
    "You may have noticed none of the problem fact classes are decorated with `@problem_fact`. That is because they are not referenced directly in constraints, but accessed indirectly via the Tractor class.\n",
    "\n",
    "---\n",
    "\n",
    "#### Planning Entities\n",
    "\n",
    "In Tractor Routing, tractors are the planning entities. Each tractor has a fixed barn to depart from and return to, and a list of fields to visit which we want to plan. In particular:\n",
    "\n",
    "- A field is visited by exactly one tractor\n",
    "- The order of the field in the list is significant\n",
    "\n",
    "as such, the field list can be modelled as a planning list variable:"
   ]
  },
  {
   "cell_type": "code",
   "execution_count": 5,
   "id": "0922583a",
   "metadata": {
    "pycharm": {
     "name": "#%%\n"
    }
   },
   "outputs": [],
   "source": [
    "from optapy import planning_entity, planning_list_variable\n",
    "\n",
    "@planning_entity\n",
    "class Tractor:\n",
    "    def __init__(self, name, capacity, barn, field_list=None):\n",
    "        self.name = name\n",
    "        self.capacity = capacity\n",
    "        self.barn = barn\n",
    "        if field_list is None:\n",
    "            self.field_list = []\n",
    "        else:\n",
    "            self.field_list = field_list\n",
    "\n",
    "    @planning_list_variable(Field, ['field_range'])\n",
    "    def get_field_list(self):\n",
    "        return self.field_list\n",
    "\n",
    "    def set_field_list(self, field_list):\n",
    "        self.field_list = field_list\n",
    "\n",
    "    def get_route(self):\n",
    "        if len(self.field_list) == 0:\n",
    "            return []\n",
    "        route = [self.barn.location]\n",
    "        for field in self.field_list:\n",
    "            route.append(field.location)\n",
    "        route.append(self.barn.location)\n",
    "        return route\n",
    "    \n",
    "    def __str__(self):\n",
    "        return f'Tractor {self.name}'"
   ]
  },
  {
   "cell_type": "markdown",
   "id": "850aac6d",
   "metadata": {
    "pycharm": {
     "name": "#%% md\n"
    }
   },
   "source": [
    "The `@planning_list_variable` decorator tells OptaPy the method is a getter for a planning list variable. It takes two parameters:\n",
    "\n",
    "- The first parameter is the type this planning variable takes.\n",
    "- The second parameter, `value_range_provider_refs`, describes where it gets its values from.\n",
    "  It a list of the id of its value range providers. This is defined later in the `@planning_solution` class.\n",
    "\n",
    "\n",
    "#### The Constraints\n",
    "\n",
    "In tractor routing, we have one hard constraint: no tractor can go over its capacity"
   ]
  },
  {
   "cell_type": "code",
   "execution_count": 6,
   "id": "944568dd",
   "metadata": {
    "pycharm": {
     "name": "#%%\n"
    }
   },
   "outputs": [],
   "source": [
    "from optapy.score import HardSoftScore\n",
    "\n",
    "def get_total_demand(tractor):\n",
    "    total_demand = 0\n",
    "    for field in tractor.field_list:\n",
    "        total_demand += field.demand\n",
    "    return total_demand\n",
    "\n",
    "def tractor_capacity(constraint_factory):\n",
    "    return constraint_factory \\\n",
    "        .for_each(Tractor) \\\n",
    "        .filter(lambda tractor: get_total_demand(tractor) > tractor.capacity) \\\n",
    "        .penalize(\"Over tractor capacity\", HardSoftScore.ONE_HARD,\n",
    "                  lambda tractor: int(get_total_demand(tractor) - tractor.capacity))"
   ]
  },
  {
   "cell_type": "markdown",
   "id": "b74100cd",
   "metadata": {
    "pycharm": {
     "name": "#%% md\n"
    }
   },
   "source": [
    "The lambda in penalize controls how much to penalize for a violation. We want a tractor 5 over capacity to be penalized more than a tractor only 1 over capacity. Hence we penalize by\n",
    "\n",
    "`get_total_demand(tractor) - tractor.capacity`\n",
    "\n",
    "which is how much over capacity the tractor is.\n",
    "\n",
    "We also have one soft constraint: minimize the total distance"
   ]
  },
  {
   "cell_type": "code",
   "execution_count": 7,
   "id": "07da4dc3",
   "metadata": {
    "pycharm": {
     "name": "#%%\n"
    }
   },
   "outputs": [],
   "source": [
    "def get_total_distance(tractor):\n",
    "    total_distance = 1\n",
    "    last_location = tractor.barn.location\n",
    "    for field in tractor.field_list:\n",
    "        total_distance += field.location.get_distance_to(last_location)\n",
    "        last_location = field.location\n",
    "    if last_location is not tractor.barn.location:\n",
    "        total_distance += tractor.barn.location.get_distance_to(last_location)\n",
    "    return total_distance\n",
    "\n",
    "def total_distance(constraint_factory):\n",
    "    return constraint_factory \\\n",
    "        .for_each(Tractor) \\\n",
    "        .penalize(\"Minimize total distance\", HardSoftScore.ONE_SOFT,\n",
    "                  lambda tractor: int(get_total_distance(tractor)))"
   ]
  },
  {
   "cell_type": "markdown",
   "id": "c9e33c42",
   "metadata": {
    "pycharm": {
     "name": "#%% md\n"
    }
   },
   "source": [
    "Every initialized Tractor is penalized in the constraint, since we want to minimalize total distance.\n",
    "\n",
    "Return a list containing the constraints in a `@constraint_provider` decorated function:"
   ]
  },
  {
   "cell_type": "code",
   "execution_count": 8,
   "id": "98b7d840",
   "metadata": {
    "pycharm": {
     "name": "#%%\n"
    }
   },
   "outputs": [],
   "source": [
    "from optapy import constraint_provider\n",
    "\n",
    "\n",
    "@constraint_provider\n",
    "def tractor_routing_constraints(constraint_factory):\n",
    "    return [\n",
    "        # Hard constraints\n",
    "        tractor_capacity(constraint_factory),\n",
    "        \n",
    "        # Soft constraints\n",
    "        total_distance(constraint_factory)\n",
    "    ]"
   ]
  },
  {
   "cell_type": "markdown",
   "id": "429efff0",
   "metadata": {
    "pycharm": {
     "name": "#%% md\n"
    }
   },
   "source": [
    "#### Planning Solution\n",
    "\n",
    "Finally, there is the planning solution. The planning solution stores references to all the problem facts and planning entities that define the problem. Additionally, it also contain the score of the solution. The planning solution class represent both the problem and the solution; as such, a problem can be viewed as an uninitialized planning solution.\n",
    "\n",
    "In Tractor Routing, it needs to contain the field list, tractor list, and the score. The bounds are included for easier visualization of the route:"
   ]
  },
  {
   "cell_type": "code",
   "execution_count": 9,
   "id": "8437e50c",
   "metadata": {
    "pycharm": {
     "name": "#%%\n"
    }
   },
   "outputs": [],
   "source": [
    "from optapy import planning_solution, planning_entity_collection_property, problem_fact_collection_property, \\\n",
    "    value_range_provider, planning_score\n",
    "\n",
    "\n",
    "@planning_solution\n",
    "class TractorRoutingSolution:\n",
    "    def __init__(self,  name, location_list, barn_list, tractor_list, field_list,\n",
    "                 south_west_corner, north_east_corner, score=None):\n",
    "        self.name = name\n",
    "        self.location_list = location_list\n",
    "        self.barn_list = barn_list\n",
    "        self.tractor_list = tractor_list\n",
    "        self.field_list = field_list\n",
    "        self.south_west_corner = south_west_corner\n",
    "        self.north_east_corner = north_east_corner\n",
    "        self.score = score\n",
    "\n",
    "    @planning_entity_collection_property(Tractor)\n",
    "    def get_tractor_list(self):\n",
    "        return self.tractor_list\n",
    "\n",
    "    @problem_fact_collection_property(Field)\n",
    "    @value_range_provider('field_range', value_range_type=list)\n",
    "    def get_field_list(self):\n",
    "        return self.field_list\n",
    "\n",
    "    @planning_score(HardSoftScore)\n",
    "    def get_score(self):\n",
    "        return self.score\n",
    "\n",
    "    def set_score(self, score):\n",
    "        self.score = score\n",
    "\n",
    "    def get_bounds(self):\n",
    "        return [self.south_west_corner.to_X_Y_tuple(), self.north_east_corner.to_X_Y_tuple()]\n",
    "\n",
    "    def get_distance_meters(self):\n",
    "        return -self.score.getSoftScore() if self.score is not None else 0"
   ]
  },
  {
   "cell_type": "markdown",
   "id": "81082b3c",
   "metadata": {
    "pycharm": {
     "name": "#%% md\n"
    }
   },
   "source": [
    "### Solving\n",
    "\n",
    "Now that we defined our model and constraints, let create an instance of the problem:"
   ]
  },
  {
   "cell_type": "code",
   "execution_count": 22,
   "id": "1032c4c0",
   "metadata": {
    "pycharm": {
     "name": "#%%\n"
    }
   },
   "outputs": [],
   "source": [
    "from data import DataBuilder\n",
    "\n",
    "problem = DataBuilder.builder(Location, Barn, Field, Tractor, TractorRoutingSolution, \n",
    "                                  EuclideanDistanceCalculator()) \\\n",
    "                                 .set_tractor_capacity(2) \\\n",
    "                                 .set_field_count(50).set_tractor_count(15).set_barn_count(1) \\\n",
    "                                 .set_south_west_corner(Location(0, 1079)) \\\n",
    "                                 .set_north_east_corner(Location(1919, 0)).build()"
   ]
  },
  {
   "cell_type": "markdown",
   "id": "8ef747f6",
   "metadata": {
    "pycharm": {
     "name": "#%% md\n"
    }
   },
   "source": [
    "and solve it:"
   ]
  },
  {
   "cell_type": "code",
   "execution_count": 23,
   "id": "4bf91d5c",
   "metadata": {
    "pycharm": {
     "name": "#%%\n"
    }
   },
   "outputs": [],
   "source": [
    "from optapy import solver_manager_create\n",
    "import optapy.config\n",
    "from optapy.types import Duration\n",
    "\n",
    "SINGLETON_ID = 1\n",
    "solver_config = optapy.config.solver.SolverConfig()\n",
    "solver_config \\\n",
    "    .withSolutionClass(TractorRoutingSolution) \\\n",
    "    .withEntityClasses(Tractor) \\\n",
    "    .withConstraintProviderClass(tractor_routing_constraints) \\\n",
    "    .withTerminationSpentLimit(Duration.ofSeconds(30))\n",
    "\n",
    "solver_manager = solver_manager_create(solver_config)\n",
    "last_score = HardSoftScore.ZERO\n",
    "\n",
    "tractor_routing_solution = problem"
   ]
  },
  {
   "cell_type": "code",
   "execution_count": 24,
   "id": "6a072fa6-4d7b-479c-b568-d10b9cfbc5ff",
   "metadata": {},
   "outputs": [
    {
     "name": "stdout",
     "output_type": "stream",
     "text": [
      "21:01:31.940 [l-7-thread-1] INFO  Solving started: time spent (9), best score (-50init/0hard/-15soft), environment mode (REPRODUCIBLE), move thread count (NONE), random (JDK with seed 0).\n",
      "21:01:32.540 [l-7-thread-1] INFO  Construction Heuristic phase (0) ended: time spent (609), best score (-20hard/-34726soft), score calculation speed (3293/sec), step total (50).\n",
      "21:02:01.931 [l-7-thread-1] INFO  Local Search phase (1) ended: time spent (30000), best score (-20hard/-26939soft), score calculation speed (988/sec), step total (6543).\n",
      "21:02:01.931 [l-7-thread-1] INFO  Solving ended: time spent (30000), best score (-20hard/-26939soft), score calculation speed (1034/sec), phase total (2), environment mode (REPRODUCIBLE), move thread count (NONE).\n"
     ]
    }
   ],
   "source": [
    "best_solution = solver_manager.solve(SINGLETON_ID, lambda _: problem)\n",
    "final_solution = best_solution.getFinalBestSolution()"
   ]
  },
  {
   "cell_type": "code",
   "execution_count": 26,
   "id": "886b39c5-5b78-4e9a-9e37-1d34e8f587aa",
   "metadata": {},
   "outputs": [
    {
     "data": {
      "image/png": "[encoded data removed]",
      "text/plain": [
       "<Figure size 432x288 with 1 Axes>"
      ]
     },
     "metadata": {
      "needs_background": "light"
     },
     "output_type": "display_data"
    }
   ],
   "source": [
    "from matplotlib import pyplot as plt, patches\n",
    "from matplotlib.path import Path\n",
    "\n",
    "%matplotlib inline\n",
    "\n",
    "color_index = 0\n",
    "def generate_color():\n",
    "    global color_index\n",
    "    colors =  (\n",
    "      'aqua',\n",
    "      'aquamarine',\n",
    "      'blue',\n",
    "      'blueviolet',\n",
    "      'chocolate',\n",
    "      'cornflowerblue',\n",
    "      'crimson',\n",
    "      'forestgreen',\n",
    "      'gold',\n",
    "      'lawngreen',\n",
    "      'limegreen',\n",
    "      'maroon',\n",
    "      'mediumvioletred',\n",
    "      'orange',\n",
    "      'slateblue',\n",
    "      'tomato'\n",
    "    )\n",
    "    out = colors[color_index]\n",
    "    color_index = (color_index + 1) % len(colors)\n",
    "    return out\n",
    "\n",
    "plt.rcParams[\"figure.autolayout\"] = True\n",
    "#fig = plt.figure()\n",
    "#ax = fig.add_subplot()\n",
    "fig,ax = plt.subplots(1,1)\n",
    "\n",
    "tractor_to_route_dict = dict()\n",
    "tractor_to_route_color_dict = dict()\n",
    "field_to_marker_dict = dict()\n",
    "\n",
    "for field in problem.field_list:\n",
    "    field_to_marker_dict[field.name] = patches.Circle((field.location.X, field.location.Y), radius=20, color='green')\n",
    "    ax.add_patch(field_to_marker_dict[field.name])\n",
    "    \n",
    "for barn in problem.barn_list:\n",
    "    circle = patches.Circle((barn.location.X, barn.location.Y), radius=20, color='black')\n",
    "    ax.add_patch(circle)\n",
    "\n",
    "for tractor in problem.tractor_list:\n",
    "    verts = [(tractor.barn.location.X,tractor.barn.location.Y)]\n",
    "    \n",
    "    codes = [\n",
    "     Path.MOVETO\n",
    "    ]\n",
    "    path = Path(verts, codes)\n",
    "    \n",
    "    color = generate_color()\n",
    "\n",
    "    tractor_to_route_color_dict[tractor.name] = color\n",
    "\n",
    "    tractor_to_route_dict[tractor.name] = patches.PathPatch(path, facecolor=color, lw=2)\n",
    "    ax.add_patch(tractor_to_route_dict[tractor.name])\n",
    "\n",
    "def update_routes(solution):\n",
    "    for tractor in solution.tractor_list:\n",
    "        # Select the current route\n",
    "        route = tractor_to_route_dict[tractor.name]\n",
    "        \n",
    "        # Change color of all fields belonging to this route\n",
    "        for field in tractor.field_list:\n",
    "            field_to_marker_dict[field.name].color = tractor_to_route_color_dict[tractor.name]\n",
    "        \n",
    "        # Set the first point for tractor at the starting barn point\n",
    "        verts = [(tractor.barn.location.X,tractor.barn.location.Y)]\n",
    "        codes = [Path.MOVETO]\n",
    "        \n",
    "        # Add the other points to the path\n",
    "        verts.extend(map(lambda field: (field.location.X,field.location.Y), tractor.field_list))\n",
    "        for i in range(len(verts)-1):\n",
    "            codes.append(Path.LINETO)\n",
    "        \n",
    "        \n",
    "        # Close the loop, back to the barn\n",
    "        # locations.append(locations[0])\n",
    "        verts.append(verts[0])\n",
    "        codes.append(Path.LINETO)\n",
    "        \n",
    "        path = Path(verts, codes)\n",
    "                \n",
    "        route = patches.PathPatch(path, edgecolor=tractor_to_route_color_dict[tractor.name], facecolor=\"none\", lw=2)\n",
    "        ax.add_patch(route)\n",
    "        fig.canvas.draw()\n",
    "\n",
    "update_routes(final_solution)\n",
    "ax.axis('equal')\n",
    "plt.show()"
   ]
  },
  {
   "cell_type": "code",
   "execution_count": 26,
   "id": "7c5e5c0f-0c2b-4723-a0ce-fd95694c67fa",
   "metadata": {},
   "outputs": [
    {
     "name": "stdout",
     "output_type": "stream",
     "text": [
      "18:29:54.065 [l-6-thread-1] INFO  Local Search phase (1) ended: time spent (5000), best score (-2hard/-4124soft), score calculation speed (1267/sec), step total (670).\n",
      "18:29:54.065 [l-6-thread-1] INFO  Solving ended: time spent (5000), best score (-2hard/-4124soft), score calculation speed (1257/sec), phase total (2), environment mode (REPRODUCIBLE), move thread count (NONE).\n"
     ]
    }
   ],
   "source": [
    "solution1 = best_solution.getFinalBestSolution()"
   ]
  },
  {
   "cell_type": "code",
   "execution_count": 27,
   "id": "892c2382-7428-4566-81c7-9fc996ceddd4",
   "metadata": {},
   "outputs": [
    {
     "ename": "AttributeError",
     "evalue": "'PathPatch' object has no attribute 'color'",
     "output_type": "error",
     "traceback": [
      "\u001b[0;31m---------------------------------------------------------------------------\u001b[0m",
      "\u001b[0;31mAttributeError\u001b[0m                            Traceback (most recent call last)",
      "\u001b[0;32m/tmp/ipykernel_180/3014734451.py\u001b[0m in \u001b[0;36m<module>\u001b[0;34m\u001b[0m\n\u001b[1;32m      2\u001b[0m     \u001b[0mroute\u001b[0m \u001b[0;34m=\u001b[0m \u001b[0mtractor_to_route_dict\u001b[0m\u001b[0;34m[\u001b[0m\u001b[0mtractor\u001b[0m\u001b[0;34m.\u001b[0m\u001b[0mname\u001b[0m\u001b[0;34m]\u001b[0m\u001b[0;34m\u001b[0m\u001b[0;34m\u001b[0m\u001b[0m\n\u001b[1;32m      3\u001b[0m     \u001b[0;32mfor\u001b[0m \u001b[0mfield\u001b[0m \u001b[0;32min\u001b[0m \u001b[0mtractor\u001b[0m\u001b[0;34m.\u001b[0m\u001b[0mfield_list\u001b[0m\u001b[0;34m:\u001b[0m\u001b[0;34m\u001b[0m\u001b[0;34m\u001b[0m\u001b[0m\n\u001b[0;32m----> 4\u001b[0;31m         \u001b[0mfield_to_marker_dict\u001b[0m\u001b[0;34m[\u001b[0m\u001b[0mfield\u001b[0m\u001b[0;34m.\u001b[0m\u001b[0mname\u001b[0m\u001b[0;34m]\u001b[0m\u001b[0;34m.\u001b[0m\u001b[0mcolor\u001b[0m \u001b[0;34m=\u001b[0m \u001b[0mroute\u001b[0m\u001b[0;34m.\u001b[0m\u001b[0mcolor\u001b[0m\u001b[0;34m\u001b[0m\u001b[0;34m\u001b[0m\u001b[0m\n\u001b[0m\u001b[1;32m      5\u001b[0m     \u001b[0mlocations\u001b[0m \u001b[0;34m=\u001b[0m \u001b[0;34m[\u001b[0m\u001b[0mtractor\u001b[0m\u001b[0;34m.\u001b[0m\u001b[0mbarn\u001b[0m\u001b[0;34m.\u001b[0m\u001b[0mlocation\u001b[0m\u001b[0;34m.\u001b[0m\u001b[0mto_X_Y_tuple\u001b[0m\u001b[0;34m(\u001b[0m\u001b[0;34m)\u001b[0m\u001b[0;34m]\u001b[0m\u001b[0;34m\u001b[0m\u001b[0;34m\u001b[0m\u001b[0m\n\u001b[1;32m      6\u001b[0m     \u001b[0mlocations\u001b[0m\u001b[0;34m.\u001b[0m\u001b[0mextend\u001b[0m\u001b[0;34m(\u001b[0m\u001b[0mmap\u001b[0m\u001b[0;34m(\u001b[0m\u001b[0;32mlambda\u001b[0m \u001b[0mfield\u001b[0m\u001b[0;34m:\u001b[0m \u001b[0mfield\u001b[0m\u001b[0;34m.\u001b[0m\u001b[0mlocation\u001b[0m\u001b[0;34m.\u001b[0m\u001b[0mto_X_Y_tuple\u001b[0m\u001b[0;34m(\u001b[0m\u001b[0;34m)\u001b[0m\u001b[0;34m,\u001b[0m \u001b[0mtractor\u001b[0m\u001b[0;34m.\u001b[0m\u001b[0mfield_list\u001b[0m\u001b[0;34m)\u001b[0m\u001b[0;34m)\u001b[0m\u001b[0;34m\u001b[0m\u001b[0;34m\u001b[0m\u001b[0m\n",
      "\u001b[0;31mAttributeError\u001b[0m: 'PathPatch' object has no attribute 'color'"
     ]
    }
   ],
   "source": [
    "for tractor in solution1.tractor_list:\n",
    "    route = tractor_to_route_dict[tractor.name]\n",
    "    for field in tractor.field_list:\n",
    "        field_to_marker_dict[field.name].color = route.color\n",
    "    locations = [tractor.barn.location.to_X_Y_tuple()]\n",
    "    locations.extend(map(lambda field: field.location.to_X_Y_tuple(), tractor.field_list))\n",
    "    locations.append(locations[0])\n",
    "    route.locations = locations\n",
    "    print(tractor.name)\n",
    "    print(route.locations)"
   ]
  }
 ],
 "metadata": {
  "kernelspec": {
   "display_name": "Python 3 (ipykernel)",
   "language": "python",
   "name": "python3"
  },
  "language_info": {
   "codemirror_mode": {
    "name": "ipython",
    "version": 3
   },
   "file_extension": ".py",
   "mimetype": "text/x-python",
   "name": "python",
   "nbconvert_exporter": "python",
   "pygments_lexer": "ipython3",
   "version": "3.9.13"
  }
 },
 "nbformat": 4,
 "nbformat_minor": 5
}
