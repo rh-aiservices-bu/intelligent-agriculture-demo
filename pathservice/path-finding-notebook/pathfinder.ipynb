{
 "cells": [
  {
   "cell_type": "code",
   "execution_count": 1,
   "id": "01581038-1d1e-4fb2-878f-ca6535ee8395",
   "metadata": {},
   "outputs": [
    {
     "name": "stdout",
     "output_type": "stream",
     "text": [
      "Collecting extremitypathfinder==2.4.1\n",
      "  Downloading extremitypathfinder-2.4.1-py3-none-any.whl (39 kB)\n",
      "Collecting networkx<3.0.0,>=2.8.5\n",
      "  Downloading networkx-2.8.6-py3-none-any.whl (2.0 MB)\n",
      "     |████████████████████████████████| 2.0 MB 136.9 MB/s            \n",
      "\u001b[?25hCollecting numpy<2.0,>=1.22\n",
      "  Downloading numpy-1.23.3-cp38-cp38-manylinux_2_17_x86_64.manylinux2014_x86_64.whl (17.1 MB)\n",
      "     |████████████████████████████████| 17.1 MB 103.8 MB/s            \n",
      "\u001b[?25hInstalling collected packages: numpy, networkx, extremitypathfinder\n",
      "  Attempting uninstall: numpy\n",
      "    Found existing installation: numpy 1.19.2\n",
      "    Uninstalling numpy-1.19.2:\n",
      "      Successfully uninstalled numpy-1.19.2\n",
      "  Attempting uninstall: networkx\n",
      "    Found existing installation: networkx 2.6.3\n",
      "    Uninstalling networkx-2.6.3:\n",
      "      Successfully uninstalled networkx-2.6.3\n",
      "\u001b[31mERROR: pip's dependency resolver does not currently take into account all the packages that are installed. This behaviour is the source of the following dependency conflicts.\n",
      "scipy 1.6.2 requires numpy<1.23.0,>=1.16.5, but you have numpy 1.23.3 which is incompatible.\u001b[0m\n",
      "Successfully installed extremitypathfinder-2.4.1 networkx-2.8.6 numpy-1.23.3\n",
      "\u001b[33mWARNING: You are using pip version 21.3.1; however, version 22.2.2 is available.\n",
      "You should consider upgrading via the '/opt/app-root/bin/python3.8 -m pip install --upgrade pip' command.\u001b[0m\n"
     ]
    }
   ],
   "source": [
    "!pip install -r requirements.txt"
   ]
  },
  {
   "cell_type": "code",
   "execution_count": 2,
   "id": "e317a402-08cb-4a01-a653-8eec3af4a8fc",
   "metadata": {},
   "outputs": [],
   "source": [
    "from extremitypathfinder import PolygonEnvironment\n",
    "from extremitypathfinder.plotting import PlottingEnvironment\n",
    "\n",
    "#environment = PolygonEnvironment()\n",
    "environment = PlottingEnvironment(plotting_dir=\"plots\")"
   ]
  },
  {
   "cell_type": "code",
   "execution_count": 13,
   "id": "5e377710-53cf-4aa6-82b3-41d946093b3a",
   "metadata": {},
   "outputs": [],
   "source": [
    "# counter clockwise vertex numbering!\n",
    "boundary_coordinates = [\n",
    "    (1650,0),\n",
    "    (1650.0, 930.0),\n",
    "    (0, 930.0),\n",
    "    (0.0, 0.0)\n",
    "    ]\n",
    "\n",
    "# clockwise numbering!\n",
    "list_of_holes = [\n",
    "    [\n",
    "        (0,737),\n",
    "        (123,665),\n",
    "        (230,640),\n",
    "        (142,548),\n",
    "        (0,592)\n",
    "    ],\n",
    "    [\n",
    "        (338,636),\n",
    "        (456,620),\n",
    "        (600,550),\n",
    "        (830,540),\n",
    "        (1060,475),\n",
    "        (935,360),\n",
    "        (640,390),\n",
    "        (398,512),\n",
    "        (236,542)\n",
    "    ],\n",
    "    [\n",
    "        (1158,475),\n",
    "        (1430,518),\n",
    "        (1650,470),\n",
    "        (1650,297),\n",
    "        (1450,390),\n",
    "        (1025,352),\n",
    "    ]\n",
    "]\n",
    "environment.store(boundary_coordinates, list_of_holes, validate=False)"
   ]
  },
  {
   "cell_type": "code",
   "execution_count": 14,
   "id": "876f253f-7048-4700-922c-1ecb50178335",
   "metadata": {},
   "outputs": [],
   "source": [
    "environment.prepare()"
   ]
  },
  {
   "cell_type": "code",
   "execution_count": 15,
   "id": "d61a9376-8e6f-4972-8a4a-cdcc236c058a",
   "metadata": {},
   "outputs": [],
   "source": [
    "start_coordinates = (400, 500)\n",
    "goal_coordinates = (1640, 920)\n",
    "path, length = environment.find_shortest_path(start_coordinates, goal_coordinates)"
   ]
  },
  {
   "cell_type": "code",
   "execution_count": 19,
   "id": "d472a02c-2f7b-4b01-8c36-d047b310c05a",
   "metadata": {},
   "outputs": [
    {
     "name": "stdout",
     "output_type": "stream",
     "text": [
      "[(5.0, 5.0), (0.0, 0.0), (0.0, 930.0), (1640.0, 920.0)]\n",
      "2577.1015553333627\n"
     ]
    }
   ],
   "source": [
    "print(path)\n",
    "print(length)"
   ]
  },
  {
   "cell_type": "code",
   "execution_count": null,
   "id": "90c80e88-0d7c-485f-8e26-a09d2d8a8543",
   "metadata": {},
   "outputs": [],
   "source": []
  }
 ],
 "metadata": {
  "kernelspec": {
   "display_name": "Python 3 (ipykernel)",
   "language": "python",
   "name": "python3"
  },
  "language_info": {
   "codemirror_mode": {
    "name": "ipython",
    "version": 3
   },
   "file_extension": ".py",
   "mimetype": "text/x-python",
   "name": "python",
   "nbconvert_exporter": "python",
   "pygments_lexer": "ipython3",
   "version": "3.8.8"
  }
 },
 "nbformat": 4,
 "nbformat_minor": 5
}
