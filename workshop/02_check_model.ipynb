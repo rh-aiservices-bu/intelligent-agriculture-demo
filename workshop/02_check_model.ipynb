{
 "cells": [
  {
   "cell_type": "markdown",
   "id": "858a2926-4cac-41f5-b136-d3e4d7025260",
   "metadata": {},
   "source": [
    "# Checking the model"
   ]
  },
  {
   "cell_type": "markdown",
   "id": "7fbd9832-0501-4b2c-a01f-d843b741ca60",
   "metadata": {},
   "source": [
    "## Initialization\n",
    "There is only one parameter to enter here, the key you got from the instructions. It will allow to decrypt the data needed to access the content of the bucket where the model is stored."
   ]
  },
  {
   "cell_type": "code",
   "execution_count": null,
   "id": "50216a14-e96e-47b2-848c-61faf15dfb60",
   "metadata": {},
   "outputs": [],
   "source": [
    "# Enter the key here (keep the quotes around it)\n",
    "key = 'replace_me'"
   ]
  },
  {
   "cell_type": "markdown",
   "id": "506c9696-4cff-4281-bfb5-1d46c39e7b6f",
   "metadata": {},
   "source": [
    "## You can now execute all the cells in the notebook"
   ]
  },
  {
   "cell_type": "code",
   "execution_count": null,
   "id": "2494a231-ea85-416b-8267-f9dcc9c45c16",
   "metadata": {},
   "outputs": [],
   "source": [
    "# Install needed libraries\n",
    "!pip install -q cryptography"
   ]
  },
  {
   "cell_type": "code",
   "execution_count": null,
   "id": "d838093a-22ca-40dd-9e7a-1f510a4ec7f6",
   "metadata": {},
   "outputs": [],
   "source": [
    "# Decrypt and set some parameters\n",
    "from cryptography.fernet import Fernet\n",
    "f = Fernet(key)\n",
    "with open('connection', 'r') as file:\n",
    "    # Read all lines into a list variable\n",
    "    lines = file.readlines()\n",
    "aws_access_key_id = f.decrypt(lines[0]).decode('utf-8')\n",
    "aws_secret_access_key = f.decrypt(lines[1]).decode('utf-8')\n",
    "\n",
    "# Don't change the bucket name\n",
    "bucket_name = 'rh-mad-workshop-m6'\n",
    "\n",
    "print(\"Here are the info you will need in the next section:\")\n",
    "print(\"----------------------------------------------------\")\n",
    "print(f\"Access key: {aws_access_key_id}\")\n",
    "print(f\"Secret key: {aws_secret_access_key}\")\n",
    "print(f\"Bucket name: {bucket_name}\")"
   ]
  },
  {
   "attachments": {},
   "cell_type": "markdown",
   "id": "b29ba30e",
   "metadata": {},
   "source": [
    "**Please save these information somewhere or leave this notebook open. We will need them later on.**"
   ]
  },
  {
   "attachments": {},
   "cell_type": "markdown",
   "id": "69b04e11-7e7f-429b-b3f5-c5a8d452d7d2",
   "metadata": {},
   "source": [
    "## Imports\n",
    "Of course we will need to use some libraries to access the storage, so import them by running the following cell. Boto3 is the standard library (from AWS) to interact with all their services."
   ]
  },
  {
   "cell_type": "code",
   "execution_count": null,
   "id": "b428ad81-7a7a-4731-9dfc-4377d335eff2",
   "metadata": {},
   "outputs": [],
   "source": [
    "import boto3\n",
    "import botocore"
   ]
  },
  {
   "attachments": {},
   "cell_type": "markdown",
   "id": "f6e70706-bb61-4c99-81dc-24a12555ebcb",
   "metadata": {},
   "source": [
    "## S3 Client\n",
    "\n",
    "Now, let's create the client that will be used for the connection (you can that see we are using the parameters we defined earlier)."
   ]
  },
  {
   "cell_type": "code",
   "execution_count": null,
   "id": "7dabc747-874c-4902-8b13-da9509f47b62",
   "metadata": {},
   "outputs": [],
   "source": [
    "s3 = boto3.client('s3',\n",
    "                aws_access_key_id = aws_access_key_id,\n",
    "                aws_secret_access_key = aws_secret_access_key,\n",
    "                region_name = 'us-east-1')"
   ]
  },
  {
   "cell_type": "markdown",
   "id": "c2df1185-ad73-4a2c-a644-4f84d096f776",
   "metadata": {},
   "source": [
    "## Verify that we can connect and see our bucket"
   ]
  },
  {
   "cell_type": "code",
   "execution_count": null,
   "id": "93162e28-17a1-4d72-bef3-4b48dff63ec3",
   "metadata": {},
   "outputs": [],
   "source": [
    "connect = s3.head_bucket(Bucket=bucket_name)\n",
    "if connect['ResponseMetadata']['HTTPStatusCode'] == 200:\n",
    "    print(\"Everything seems right, I can connect!\")\n",
    "    print(connect)\n",
    "else:\n",
    "    print(\"Hum, there seems to be a problem...\")"
   ]
  },
  {
   "cell_type": "markdown",
   "id": "c41ae013-2401-4571-8dea-fe9e379417e4",
   "metadata": {},
   "source": [
    "## Verify the location of the model inside the bucket"
   ]
  },
  {
   "cell_type": "code",
   "execution_count": null,
   "id": "eceb66a6-ac76-4a18-a3f0-1789a04a0666",
   "metadata": {
    "tags": []
   },
   "outputs": [],
   "source": [
    "response = s3.list_objects(Bucket=bucket_name)\n",
    "\n",
    "if 'Contents' in response:\n",
    "    for content in response['Contents']:\n",
    "        print(content['Key'])\n",
    "else:\n",
    "    print(\"Bucket is empty\")"
   ]
  },
  {
   "attachments": {},
   "cell_type": "markdown",
   "id": "d5d6cfda-b31b-4dc6-b10b-8804b461a655",
   "metadata": {},
   "source": [
    "Perfect, we can see that the file is located inside the **coolstore-model** folder!\n",
    "\n",
    "You can now get back to the instructions."
   ]
  }
 ],
 "metadata": {
  "kernelspec": {
   "display_name": "Python 3.9.16",
   "language": "python",
   "name": "python3"
  },
  "language_info": {
   "codemirror_mode": {
    "name": "ipython",
    "version": 3
   },
   "file_extension": ".py",
   "mimetype": "text/x-python",
   "name": "python",
   "nbconvert_exporter": "python",
   "pygments_lexer": "ipython3",
   "version": "3.9.16"
  }
 },
 "nbformat": 4,
 "nbformat_minor": 5
}
