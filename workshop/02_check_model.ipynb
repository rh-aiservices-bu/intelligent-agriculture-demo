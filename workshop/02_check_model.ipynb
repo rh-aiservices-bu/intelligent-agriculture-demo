{
 "cells": [
  {
   "cell_type": "markdown",
   "id": "858a2926-4cac-41f5-b136-d3e4d7025260",
   "metadata": {},
   "source": [
    "# Checking the model"
   ]
  },
  {
   "cell_type": "markdown",
   "id": "997bbabb-784c-4400-9705-bba1a5ec4ab8",
   "metadata": {},
   "source": [
    "## Parameters\n",
    "We will start with the information needed to connect to our objects storage."
   ]
  },
  {
   "cell_type": "code",
   "execution_count": null,
   "id": "ca3af328-8cbc-4f2d-a49b-591c23017017",
   "metadata": {},
   "outputs": [],
   "source": [
    "access_key = 'odsceast'\n",
    "secret_key = 'odsceast'\n",
    "bucket_name = 'models'"
   ]
  },
  {
   "cell_type": "markdown",
   "id": "69b04e11-7e7f-429b-b3f5-c5a8d452d7d2",
   "metadata": {},
   "source": [
    "## Imports\n",
    "Of course we will need to use some libraries to access the storage, so import them by running the following cell. Boto3 is the standard library (from AWS) to interact with all their services."
   ]
  },
  {
   "cell_type": "code",
   "execution_count": null,
   "id": "b428ad81-7a7a-4731-9dfc-4377d335eff2",
   "metadata": {},
   "outputs": [],
   "source": [
    "import boto3\n",
    "import botocore"
   ]
  },
  {
   "cell_type": "markdown",
   "id": "f6e70706-bb61-4c99-81dc-24a12555ebcb",
   "metadata": {},
   "source": [
    "## S3 Client\n",
    "\n",
    "Now, let's create the client that will be used for the connection (you can that see we are using the parameters we defined earlier)."
   ]
  },
  {
   "cell_type": "code",
   "execution_count": null,
   "id": "7dabc747-874c-4902-8b13-da9509f47b62",
   "metadata": {},
   "outputs": [],
   "source": [
    "s3 = boto3.client('s3',\n",
    "                  aws_access_key_id=access_key,\n",
    "                  aws_secret_access_key=secret_key,\n",
    "                  region_name='us-east-1',\n",
    "                  endpoint_url='http://s3.redhat-ods-applications.svc.cluster.local:9000',\n",
    "                  use_ssl=False)"
   ]
  },
  {
   "cell_type": "markdown",
   "id": "c2df1185-ad73-4a2c-a644-4f84d096f776",
   "metadata": {},
   "source": [
    "## Verify that we can connect and see our bucket"
   ]
  },
  {
   "cell_type": "code",
   "execution_count": null,
   "id": "93162e28-17a1-4d72-bef3-4b48dff63ec3",
   "metadata": {},
   "outputs": [],
   "source": [
    "connect = s3.head_bucket(Bucket=bucket_name)\n",
    "if connect['ResponseMetadata']['HTTPStatusCode'] == 200:\n",
    "    print(\"Everything seems right, I can connect!\")\n",
    "    print(connect)\n",
    "else:\n",
    "    print(\"Hum, there seems to be a problem...\")"
   ]
  },
  {
   "cell_type": "markdown",
   "id": "c41ae013-2401-4571-8dea-fe9e379417e4",
   "metadata": {},
   "source": [
    "## Verify the location of the model inside the bucket"
   ]
  },
  {
   "cell_type": "code",
   "execution_count": null,
   "id": "eceb66a6-ac76-4a18-a3f0-1789a04a0666",
   "metadata": {
    "tags": []
   },
   "outputs": [],
   "source": [
    "response = s3.list_objects(Bucket=bucket_name)\n",
    "\n",
    "if 'Contents' in response:\n",
    "    for content in response['Contents']:\n",
    "        print(content['Key'])\n",
    "else:\n",
    "    print(\"Bucket is empty\")"
   ]
  },
  {
   "cell_type": "markdown",
   "id": "d5d6cfda-b31b-4dc6-b10b-8804b461a655",
   "metadata": {},
   "source": [
    "Perfect, we can see that the model file, `crops.onnx`, is located inside the `crops` folder!\n",
    "\n",
    "You can now get back to the instructions."
   ]
  }
 ],
 "metadata": {
  "kernelspec": {
   "display_name": "Python 3.9.14",
   "language": "python",
   "name": "python3"
  },
  "language_info": {
   "codemirror_mode": {
    "name": "ipython",
    "version": 3
   },
   "file_extension": ".py",
   "mimetype": "text/x-python",
   "name": "python",
   "nbconvert_exporter": "python",
   "pygments_lexer": "ipython3",
   "version": "3.9.14"
  }
 },
 "nbformat": 4,
 "nbformat_minor": 5
}
