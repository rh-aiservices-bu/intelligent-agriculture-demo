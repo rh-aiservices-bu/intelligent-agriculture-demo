{
 "cells": [
  {
   "cell_type": "markdown",
   "id": "6e1011f5-c49a-4986-a7f5-b0f3d62cdbd6",
   "metadata": {
    "tags": []
   },
   "source": [
    "# Model Server Deployment Testing"
   ]
  },
  {
   "cell_type": "markdown",
   "id": "d0eb4b3e-fac1-4e01-b32e-f62bafca55e9",
   "metadata": {},
   "source": [
    "## Very Important! Enter the inference url\n",
    "This is the URL you got after deploying the model on OpenShift Data Science."
   ]
  },
  {
   "cell_type": "code",
   "execution_count": null,
   "id": "6462c580-71e3-4cc8-b1e7-fc29e5a69913",
   "metadata": {},
   "outputs": [],
   "source": [
    "infer_url = 'replace_me'\n",
    "# Example: infer_url = 'https://my.server.address/v2/models/crops/infer'"
   ]
  },
  {
   "cell_type": "markdown",
   "id": "3dc2d3cc-b9d0-4fb7-99f6-c46489e372dc",
   "metadata": {},
   "source": [
    "## Requirements\n",
    "This will install the requirements for the whole workshop"
   ]
  },
  {
   "cell_type": "code",
   "execution_count": null,
   "id": "586b4e85-fffe-4712-b21c-00bb865d0bfd",
   "metadata": {},
   "outputs": [],
   "source": [
    "!pip install -qr requirements.txt"
   ]
  },
  {
   "cell_type": "markdown",
   "id": "7cf1082b-3186-4967-ba6a-c07c4347f17a",
   "metadata": {},
   "source": [
    "## Import libraries"
   ]
  },
  {
   "cell_type": "code",
   "execution_count": null,
   "id": "209bbe2c-9515-4479-bb74-3fb3570fece4",
   "metadata": {},
   "outputs": [],
   "source": [
    "import os\n",
    "os.environ['TF_CPP_MIN_LOG_LEVEL'] = '2'\n",
    "\n",
    "from tensorflow import expand_dims\n",
    "from tensorflow.keras.utils import img_to_array, load_img\n",
    "from numpy import argmax, array, max as max_\n",
    "import numpy as np\n",
    "import requests"
   ]
  },
  {
   "cell_type": "markdown",
   "id": "d1f6a4cc-f3af-4aef-a58a-2f60125a4e4c",
   "metadata": {},
   "source": [
    "## Set the classes of the model\n",
    "As the model will return only the id of the class, we need the corresonding array to get the full name of what was detected."
   ]
  },
  {
   "cell_type": "code",
   "execution_count": null,
   "id": "129e7884-0522-4b59-bd4b-8634f7407693",
   "metadata": {},
   "outputs": [],
   "source": [
    "class_predictions = array([\n",
    "    'Corn___Common_Rust',\n",
    "    'Corn___Gray_Leaf_Spot',\n",
    "    'Corn___Healthy',\n",
    "    'Corn___Northern_Leaf_Blight',\n",
    "    'Potato___Early_Blight',\n",
    "    'Potato___Healthy',\n",
    "    'Potato___Late_Blight',\n",
    "    'Rice___Brown_Spot',\n",
    "    'Rice___Healthy',\n",
    "    'Rice___Leaf_Blast',\n",
    "    'Rice___Neck_Blast',\n",
    "    'Wheat___Brown_Rust',\n",
    "    'Wheat___Healthy',\n",
    "    'Wheat___Yellow_Rust'\n",
    "])"
   ]
  },
  {
   "cell_type": "markdown",
   "id": "a2abf6c5-82b5-4afe-be12-94c866c07be5",
   "metadata": {},
   "source": [
    "## Prepare image to test\n",
    "The image is loaded, then converted into a format recognized by the API of the model server (reference: https://github.com/kserve/kserve/blob/master/docs/predict-api/v2/required_api.md#inference)."
   ]
  },
  {
   "cell_type": "code",
   "execution_count": null,
   "id": "ef68a3b8-d473-411d-9b13-d71a03e6cdb2",
   "metadata": {},
   "outputs": [],
   "source": [
    "img_name = 'potato_late_blight.jpg'\n",
    "\n",
    "img = load_img(img_name, target_size=(200, 200))\n",
    "img_array = img_to_array(img)\n",
    "img_array = expand_dims(img_array, 0)\n",
    "\n",
    "# json payload\n",
    "img_numpy = img_array.numpy()  # Convert to numpy array\n",
    "im_json = img_numpy.tolist()  # Converts the array to a nested list\n",
    "\n",
    "data = {\n",
    "        \"inputs\": [\n",
    "            {\n",
    "                \"name\": \"input_1\",\n",
    "                \"shape\": [1, 200, 200, 3],\n",
    "                \"datatype\": \"FP32\",\n",
    "                \"data\": im_json\n",
    "            }\n",
    "        ]\n",
    "    }"
   ]
  },
  {
   "cell_type": "markdown",
   "id": "c802bf5e-08c0-43c8-b37e-9dec3386fe76",
   "metadata": {},
   "source": [
    "## Call the inference service"
   ]
  },
  {
   "cell_type": "code",
   "execution_count": null,
   "id": "8822fcf7-6a79-498d-a79b-fd909fc1a0e7",
   "metadata": {},
   "outputs": [],
   "source": [
    "response = requests.post(infer_url, json=data)\n",
    "raw_output = response.json()\n",
    "print(raw_output)"
   ]
  },
  {
   "cell_type": "markdown",
   "id": "658287fd-5d0f-430d-95b6-e6706a17e935",
   "metadata": {},
   "source": [
    "## Process the result"
   ]
  },
  {
   "cell_type": "code",
   "execution_count": null,
   "id": "4d7f4cfd-c1bd-4153-b492-28549167836f",
   "metadata": {},
   "outputs": [],
   "source": [
    "arr = np.array(raw_output['outputs'][0]['data'])  # Get the response data as a NumPy Array\n",
    "\n",
    "class_prediction = class_predictions[argmax(arr)]\n",
    "score = max_(arr)\n",
    "print(f'Class prediction: {class_prediction}')\n",
    "model_score = round(max_(score) * 100, 2)\n",
    "print(f'Model score: {model_score}')"
   ]
  },
  {
   "cell_type": "markdown",
   "id": "cca3450d-91e9-4ff0-96b6-5db267cda253",
   "metadata": {},
   "source": [
    "We have verified that our inference service endpoint is working properly.\n",
    "\n",
    "You can now get back to the instructions."
   ]
  }
 ],
 "metadata": {
  "kernelspec": {
   "display_name": "Python 3.9.14",
   "language": "python",
   "name": "python3"
  },
  "language_info": {
   "codemirror_mode": {
    "name": "ipython",
    "version": 3
   },
   "file_extension": ".py",
   "mimetype": "text/x-python",
   "name": "python",
   "nbconvert_exporter": "python",
   "pygments_lexer": "ipython3",
   "version": "3.9.14"
  }
 },
 "nbformat": 4,
 "nbformat_minor": 5
}
