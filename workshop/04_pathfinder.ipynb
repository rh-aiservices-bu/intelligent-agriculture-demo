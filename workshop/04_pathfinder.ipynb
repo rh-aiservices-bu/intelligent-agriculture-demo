{
 "cells": [
  {
   "cell_type": "markdown",
   "id": "5a4b576d-604f-4dfb-a0c7-c38421621cad",
   "metadata": {},
   "source": [
    "# Finding the best path avoiding obstacles"
   ]
  },
  {
   "cell_type": "markdown",
   "id": "8bda15b8-a983-46b9-bb94-3f4cc61b2d5a",
   "metadata": {},
   "source": [
    "## Install requirements\n",
    "In case you skipped the notebook 03, install the requirements."
   ]
  },
  {
   "cell_type": "code",
   "execution_count": null,
   "id": "01581038-1d1e-4fb2-878f-ca6535ee8395",
   "metadata": {},
   "outputs": [],
   "source": [
    "!pip install -qr requirements.txt"
   ]
  },
  {
   "cell_type": "markdown",
   "id": "a0d5873c-e134-4702-b732-4bb19617baa1",
   "metadata": {},
   "source": [
    "## Imports"
   ]
  },
  {
   "cell_type": "code",
   "execution_count": null,
   "id": "e317a402-08cb-4a01-a653-8eec3af4a8fc",
   "metadata": {},
   "outputs": [],
   "source": [
    "import os\n",
    "\n",
    "from IPython.display import display, Image, HTML\n",
    "from extremitypathfinder.plotting import PlottingEnvironment"
   ]
  },
  {
   "cell_type": "markdown",
   "id": "bc89f29f-6084-4481-89c3-7ff018c62535",
   "metadata": {},
   "source": [
    "## Initialization\n",
    "We are defining our map here. It has boundaries, and \"holes\" (areas where we cannot go, in our case the river)."
   ]
  },
  {
   "cell_type": "code",
   "execution_count": null,
   "id": "5e377710-53cf-4aa6-82b3-41d946093b3a",
   "metadata": {},
   "outputs": [],
   "source": [
    "# Create the environment\n",
    "plot_dir = 'plots'\n",
    "environment = PlottingEnvironment(plotting_dir=plot_dir)\n",
    "# Cleanup existing files\n",
    "if os.path.exists(plot_dir) and os.path.isdir(plot_dir):\n",
    "    files = os.listdir(plot_dir)\n",
    "    for file in files:\n",
    "        file_path = os.path.join(plot_dir, file)\n",
    "        if os.path.isfile(file_path):\n",
    "            os.remove(file_path)\n",
    "\n",
    "# Define the boundaries: counter clockwise vertex numbering!\n",
    "boundary_coordinates = [\n",
    "    (1650, 0),\n",
    "    (1650.0, 930.0),\n",
    "    (0, 930.0),\n",
    "    (0.0, 0.0)\n",
    "    ]\n",
    "\n",
    "# Define the holes: clockwise numbering!\n",
    "list_of_holes = [\n",
    "    [\n",
    "        (0, 737),\n",
    "        (123, 665),\n",
    "        (230, 640),\n",
    "        (142, 548),\n",
    "        (0, 592)\n",
    "    ],\n",
    "    [\n",
    "        (338, 636),\n",
    "        (456, 620),\n",
    "        (600, 550),\n",
    "        (830, 540),\n",
    "        (1060, 475),\n",
    "        (935, 360),\n",
    "        (640, 390),\n",
    "        (398, 512),\n",
    "        (236, 542)\n",
    "    ],\n",
    "    [\n",
    "        (1158, 475),\n",
    "        (1430, 518),\n",
    "        (1650, 470),\n",
    "        (1650, 297),\n",
    "        (1450, 390),\n",
    "        (1025, 352),\n",
    "    ]\n",
    "]\n",
    "environment.store(boundary_coordinates, list_of_holes, validate=False)\n",
    "\n",
    "environment.prepare()\n",
    "\n",
    "# Display the map\n",
    "\n",
    "filename_prefix = 'map_plot'\n",
    "files = os.listdir(plot_dir)\n",
    "for file in files:\n",
    "    # Check if the file starts with the filename_prefix\n",
    "    if file.startswith(filename_prefix):\n",
    "        # Display the file\n",
    "        if file.endswith('.png') or file.endswith('.jpg'):\n",
    "            display(Image(os.path.join(plot_dir, file)))"
   ]
  },
  {
   "cell_type": "markdown",
   "id": "c0ef0a8c-0dab-4a2e-91b2-95598c897297",
   "metadata": {},
   "source": [
    "## Find a path between two coordinates\n",
    "We will now try to find the best path beetwen two coordinates on the map (they must not be in the holes!). You can test with differents paths if you want.\n",
    "\n",
    "The result is an array of the different coordinates of the path (x, y), and the length of this path."
   ]
  },
  {
   "cell_type": "code",
   "execution_count": null,
   "id": "d61a9376-8e6f-4972-8a4a-cdcc236c058a",
   "metadata": {},
   "outputs": [],
   "source": [
    "start_coordinates = (400, 200)\n",
    "goal_coordinates = (900, 800)\n",
    "\n",
    "# Cleanup existing files\n",
    "filename_prefixes = ['path_', 'graph_']\n",
    "if os.path.exists(plot_dir) and os.path.isdir(plot_dir):\n",
    "    files = os.listdir(plot_dir)\n",
    "    for file in files:\n",
    "        if file.startswith(filename_prefixes[0]) or file.startswith(filename_prefixes[1]):\n",
    "            file_path = os.path.join(plot_dir, file)\n",
    "            if os.path.isfile(file_path):\n",
    "                os.remove(file_path)\n",
    "\n",
    "# Find best path\n",
    "path, length = environment.find_shortest_path(start_coordinates, goal_coordinates)\n",
    "print(path)\n",
    "print(length)\n",
    "\n",
    "# Display the path\n",
    "plot_dir = 'plots'\n",
    "filename_prefix = 'path_plot'\n",
    "files = os.listdir(plot_dir)\n",
    "for file in files:\n",
    "    if file.startswith(filename_prefix):\n",
    "        if file.endswith('.png') or file.endswith('.jpg'):\n",
    "            display(Image(os.path.join(plot_dir, file)))"
   ]
  },
  {
   "cell_type": "markdown",
   "id": "8d7e3525-01fa-439d-9cbb-3025e8f2b0df",
   "metadata": {},
   "source": [
    "After running the previous cell, you can look into the 'plots' folder, where you will find the intermediate calculations:\n",
    "- map_plot_... is the map definition (boundaries and holes)\n",
    "- prepared_map_plot_... represents the calculations made to avoid the convex areas\n",
    "- graph_plot is the links between all valide extremity points, avoiding the convex areas\n",
    "- graph_path_plot is the previous one with the map itself. So basically all the possible paths betweeen our two points\n",
    "- path_plot is the final computation for the best (shortest) path"
   ]
  },
  {
   "cell_type": "markdown",
   "id": "57f6ee0d-edfa-4c0e-9dc5-39fc01a38ccd",
   "metadata": {},
   "source": [
    "This module is finished, you can now get back to the instructions."
   ]
  }
 ],
 "metadata": {
  "kernelspec": {
   "display_name": "Python 3.9.14",
   "language": "python",
   "name": "python3"
  },
  "language_info": {
   "codemirror_mode": {
    "name": "ipython",
    "version": 3
   },
   "file_extension": ".py",
   "mimetype": "text/x-python",
   "name": "python",
   "nbconvert_exporter": "python",
   "pygments_lexer": "ipython3",
   "version": "3.9.14"
  }
 },
 "nbformat": 4,
 "nbformat_minor": 5
}
