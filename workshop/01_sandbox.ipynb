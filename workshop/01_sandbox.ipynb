{
 "cells": [
  {
   "attachments": {},
   "cell_type": "markdown",
   "id": "ec5efa24",
   "metadata": {},
   "source": [
    "# Notebook Sandbox\n",
    "\n",
    "If you have never worked with a notebook or Python, please take some time to explore and try what you want!\n",
    "\n",
    "When you are finished exploring you can get back to the instructions."
   ]
  },
  {
   "attachments": {},
   "cell_type": "markdown",
   "id": "274f77ec",
   "metadata": {},
   "source": [
    "### Some basic Python code\n",
    "\n",
    "When positioned in a cell, click on the \"play\" button in the toolbar at the top to run the code inside it. It's a simple as that!"
   ]
  },
  {
   "cell_type": "code",
   "execution_count": null,
   "id": "3b4dc1f1-8d6e-4869-ade8-cafc22baa817",
   "metadata": {},
   "outputs": [],
   "source": [
    "def print_some_text(entered_text):\n",
    "    print(f'This is what you entered: {entered_text}')\n",
    "    \n",
    "my_text = 'Hello World!'\n",
    "\n",
    "print_some_text(my_text)"
   ]
  },
  {
   "cell_type": "code",
   "execution_count": null,
   "id": "70c9ed5e-60e1-42dd-b9c3-87fcfc79493e",
   "metadata": {},
   "outputs": [],
   "source": [
    "new_text = 'Bye!'\n",
    "\n",
    "# Of course, functions defined in another cell are still accessible!\n",
    "print_some_text(new_text)"
   ]
  },
  {
   "attachments": {},
   "cell_type": "markdown",
   "id": "b091c532",
   "metadata": {},
   "source": [
    "So basically, notebooks are a way to segment your code in different steps that you can run one by one, re-run, move around, until it does what you need. That's a perfect way to experiment!"
   ]
  },
  {
   "cell_type": "markdown",
   "id": "92bc6513-dbe5-4128-9399-d4d3ab9be845",
   "metadata": {},
   "source": [
    "# This is a markdown cell\n",
    "## Chapter 1\n",
    "You can use **markdown** formatting to enter your text.\n",
    "\n",
    "*Double-click* on the cell to modify it!\n",
    "\n",
    "[Markdown reference](https://www.markdownguide.org/basic-syntax/)"
   ]
  }
 ],
 "metadata": {
  "kernelspec": {
   "display_name": "Python 3",
   "language": "python",
   "name": "python3"
  },
  "language_info": {
   "codemirror_mode": {
    "name": "ipython",
    "version": 3
   },
   "file_extension": ".py",
   "mimetype": "text/x-python",
   "name": "python",
   "nbconvert_exporter": "python",
   "pygments_lexer": "ipython3",
   "version": "3.8.3"
  }
 },
 "nbformat": 4,
 "nbformat_minor": 5
}
