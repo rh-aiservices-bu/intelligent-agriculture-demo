{
 "cells": [
  {
   "cell_type": "markdown",
   "id": "68669f69-fad0-47a5-8e30-012b974d06d2",
   "metadata": {
    "tags": []
   },
   "source": [
    "## Import libraries"
   ]
  },
  {
   "cell_type": "code",
   "execution_count": null,
   "id": "14e5e63c-a2f4-432e-b307-cfae1734eab1",
   "metadata": {},
   "outputs": [],
   "source": [
    "import tf2onnx\n",
    "from tensorflow import keras"
   ]
  },
  {
   "cell_type": "markdown",
   "id": "c4b1131b-2160-4b3e-8666-3faff6e99d29",
   "metadata": {
    "tags": []
   },
   "source": [
    "## Convert keras model"
   ]
  },
  {
   "cell_type": "code",
   "execution_count": null,
   "id": "1979150f-3278-4ab3-b2fe-6d8b36eadc13",
   "metadata": {},
   "outputs": [],
   "source": [
    "model_path = 'crops_94.93.h5'\n",
    "output_path = 'crops.onnx'\n",
    "model = keras.models.load_model(model_path)\n",
    "model_proto, _ = tf2onnx.convert.from_keras(model, opset=13, output_path=output_path)"
   ]
  }
 ],
 "metadata": {
  "kernelspec": {
   "display_name": "Python 3.9.14",
   "language": "python",
   "name": "python3"
  },
  "language_info": {
   "codemirror_mode": {
    "name": "ipython",
    "version": 3
   },
   "file_extension": ".py",
   "mimetype": "text/x-python",
   "name": "python",
   "nbconvert_exporter": "python",
   "pygments_lexer": "ipython3",
   "version": "3.9.14"
  }
 },
 "nbformat": 4,
 "nbformat_minor": 5
}
